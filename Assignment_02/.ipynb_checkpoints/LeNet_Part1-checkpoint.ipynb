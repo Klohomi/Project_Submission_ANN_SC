{
 "cells": [
  {
   "cell_type": "markdown",
   "metadata": {
    "colab_type": "text",
    "id": "MJejm-ZRMB0x"
   },
   "source": [
    "# LeNet-5\n",
    "In this homework you will use PyTorch to build and train a convolutional network. You are asked to implement the a modified LeNet-5 for MINIST digits classification. Different from the original LeNet-5, in this notebook we use max instead of average pooling, and use fully connected instead of gaussian final layer."
   ]
  },
  {
   "cell_type": "code",
   "execution_count": 0,
   "metadata": {
    "colab": {},
    "colab_type": "code",
    "id": "4rPoZrLgMB0y"
   },
   "outputs": [],
   "source": [
    "import torch\n",
    "import torch.nn as nn\n",
    "import torch.optim as optim\n",
    "from torch.nn import functional\n",
    "import torchvision\n",
    "import numpy as np\n",
    "import matplotlib.pyplot as plt\n",
    "import time\n",
    "from IPython import display"
   ]
  },
  {
   "cell_type": "code",
   "execution_count": 0,
   "metadata": {
    "colab": {},
    "colab_type": "code",
    "id": "2YIzSTkMMB02"
   },
   "outputs": [],
   "source": [
    "# grayscale and inline plotting\n",
    "%matplotlib inline\n",
    "plt.rcParams['image.cmap'] = 'gray'"
   ]
  },
  {
   "cell_type": "markdown",
   "metadata": {
    "colab_type": "text",
    "id": "HI2cHk8zufts"
   },
   "source": [
    "## Visualization tools"
   ]
  },
  {
   "cell_type": "code",
   "execution_count": 0,
   "metadata": {
    "colab": {},
    "colab_type": "code",
    "id": "FCkbK86VMB07"
   },
   "outputs": [],
   "source": [
    "def plot_image(image):\n",
    "    nr, nc = image.shape\n",
    "    extent = [-0.5, nc - 0.5, nr - 0.5, -0.5]\n",
    "    plt.imshow(image, extent=extent, origin='upper', interpolation='nearest')\n",
    "\n",
    "def visualize(t, loss, errcl, x5, x4, x3, x0, w1):\n",
    "\n",
    "    loss_avg = np.divide(\n",
    "        np.cumsum(loss[: t + 1]),\n",
    "        range(1, t + 2)\n",
    "    )\n",
    "\n",
    "    errcl_avg = np.divide(\n",
    "        np.cumsum(errcl[: t + 1]),\n",
    "        range(1, t + 2)\n",
    "    )\n",
    "\n",
    "    n_last_batches = np.min([20, t])\n",
    "    k = np.ones(n_last_batches * 2 + 1) / (n_last_batches + 1)\n",
    "    k[:n_last_batches] = 0\n",
    "    \n",
    "    errcl_sm = np.convolve(np.pad(errcl, mode=\"edge\", pad_width=n_last_batches), k, mode=\"valid\")\n",
    "    errcl_sm = errcl_sm[: len(errcl_avg)]\n",
    "\n",
    "    loss_sm = np.convolve(np.pad(loss, mode=\"edge\", pad_width=n_last_batches), k, mode=\"valid\")\n",
    "    loss_sm = loss_sm[: len(loss)]\n",
    "\n",
    "    display.clear_output(wait=True)\n",
    "\n",
    "    plt.subplot(4, 3, 1)\n",
    "    plt.plot(loss, label=\"loss\")\n",
    "    plt.plot(loss_sm, label=\"smothed loss\")\n",
    "    plt.plot(loss_avg, label=\"avg loss\")\n",
    "    plt.legend()\n",
    "    plt.ylim(0, np.max(loss)*1.05)\n",
    "    plt.title(\"loss: avg - %.4f, smoothed - %.4f, current - %.4f\"  % (loss_avg[t], loss_sm[t], loss[t]))\n",
    "\n",
    "    plt.subplot(4, 3, 2)\n",
    "    plt.plot(errcl, label=\"cl err\")\n",
    "    plt.plot(errcl_sm, label=\"smothed cl err\")\n",
    "    plt.plot(errcl_avg, label=\"avg cl err\")\n",
    "    plt.legend()\n",
    "    plt.ylim(0, np.max(errcl)*1.05)\n",
    "    plt.title(\"cl error: avg - %.4f, smoothed - %.4f, current - %.4f\"  % (errcl_avg[t], errcl_sm[t], errcl[t]))\n",
    "    \n",
    "    plt.subplot(4, 3, 3)\n",
    "    plt.bar(range(len(x5)), x5)\n",
    "    plt.title(\"class confidences\")\n",
    "\n",
    "    plt.subplot(4,3,4)\n",
    "    plt.hist(x4)\n",
    "    plt.title(\"F6 activations\")\n",
    "\n",
    "    plt.subplot(4,3,5)\n",
    "    plt.hist(x3)\n",
    "    plt.title(\"C5 activations\")\n",
    "\n",
    "    plt.subplot(4,3,6)\n",
    "    plot_image(x0)\n",
    "    plt.title(\"input image\")\n",
    "\n",
    "    for i in range(w1.shape[0]):\n",
    "        plt.subplot(4,3,7+i)\n",
    "        plot_image(w1[i])\n",
    "        plt.title(\"C1 kernel channel \" + str(i))\n",
    "\n",
    "    plt.subplots_adjust(wspace=0.5)\n",
    "    plt.subplots_adjust(hspace=0.5)\n",
    "    plt.gcf().set_size_inches(18.5, 10.5)\n",
    "    display.display(plt.gcf())"
   ]
  },
  {
   "cell_type": "markdown",
   "metadata": {
    "colab_type": "text",
    "id": "cWBhNjnKul-6"
   },
   "source": [
    "## Data Preparation"
   ]
  },
  {
   "cell_type": "code",
   "execution_count": 0,
   "metadata": {
    "colab": {
     "base_uri": "https://localhost:8080/",
     "height": 386,
     "referenced_widgets": [
      "c54e7bbdf32e427f84b3e4214562fda0",
      "90e88616234a45f48f6c4b4849592b47",
      "c7b4f20e99e3421c8d98e97ffc1ebff5",
      "34c485383f5b4afcba42217e87e0991f",
      "5c27522f74224766b58f2ff1698bcf63",
      "6806fc0522544ef0b7a63f564bf2ca80",
      "c883dbab08b64f05ac039c95e5f815ba",
      "589e7f606d524520984763c858b3839a",
      "c2c8cc22aead4177b20de21624e7dfe3",
      "bbff0dabdc1c43d9bca824c8a2a21d10",
      "b4c3e99c6f1446e782517b1594c7ea86",
      "71c6bfeec3394c42af97bf10ddf8cf06",
      "e5e2916199bb48daac4c45e21b74f3de",
      "7ec32af1749446c798e1f2e5ad1d247c",
      "699af642cd6841758454cfb00493eca2",
      "f9fc00da03c7478dab539b91e85f569d",
      "034a9b08acbf4227a12577e09e31ea04",
      "4ee7978d52294fa7af6e26036e3a5f30",
      "72aabe336ce94cfea22e01c2f7ecf39e",
      "d818c0ff04554ffdbe47e4ae8f8c7826",
      "86ed17599fc143258895b53d057d74ef",
      "ce2faa5236a6498885ea1835018f2db9",
      "fcb505ff012a48a7b827cd80375c73d1",
      "e7a2f74689314b568d577a51cd342b8e",
      "f36f8286ad174f09a45bbaecef112882",
      "cace08303dd64ef995657f7b9271427e",
      "12250ffe0f9d48f5a140f42db9dcdefe",
      "a12b162715f74c8197adb985c3934900",
      "5fd192d0d1f54d13ad4180f6edc0c0dc",
      "4ca45f28b2bc4436bc636c3e2b9266df",
      "306a1c440f8c40808d58c9ec63853e71",
      "f7556ccdcae3443a9239eb5287eb7cce"
     ]
    },
    "colab_type": "code",
    "id": "gc7hIpVjuZG3",
    "outputId": "dd508991-3882-4ef9-b932-92e01659ef34"
   },
   "outputs": [
    {
     "name": "stdout",
     "output_type": "stream",
     "text": [
      "Downloading http://yann.lecun.com/exdb/mnist/train-images-idx3-ubyte.gz to data/MNIST/raw/train-images-idx3-ubyte.gz\n"
     ]
    },
    {
     "data": {
      "application/vnd.jupyter.widget-view+json": {
       "model_id": "c54e7bbdf32e427f84b3e4214562fda0",
       "version_major": 2,
       "version_minor": 0
      },
      "text/plain": [
       "HBox(children=(FloatProgress(value=1.0, bar_style='info', max=1.0), HTML(value='')))"
      ]
     },
     "metadata": {
      "tags": []
     },
     "output_type": "display_data"
    },
    {
     "name": "stdout",
     "output_type": "stream",
     "text": [
      "Extracting data/MNIST/raw/train-images-idx3-ubyte.gz to data/MNIST/raw\n",
      "Downloading http://yann.lecun.com/exdb/mnist/train-labels-idx1-ubyte.gz to data/MNIST/raw/train-labels-idx1-ubyte.gz\n"
     ]
    },
    {
     "data": {
      "application/vnd.jupyter.widget-view+json": {
       "model_id": "c2c8cc22aead4177b20de21624e7dfe3",
       "version_major": 2,
       "version_minor": 0
      },
      "text/plain": [
       "HBox(children=(FloatProgress(value=1.0, bar_style='info', max=1.0), HTML(value='')))"
      ]
     },
     "metadata": {
      "tags": []
     },
     "output_type": "display_data"
    },
    {
     "name": "stdout",
     "output_type": "stream",
     "text": [
      "Extracting data/MNIST/raw/train-labels-idx1-ubyte.gz to data/MNIST/raw\n",
      "Downloading http://yann.lecun.com/exdb/mnist/t10k-images-idx3-ubyte.gz to data/MNIST/raw/t10k-images-idx3-ubyte.gz\n"
     ]
    },
    {
     "data": {
      "application/vnd.jupyter.widget-view+json": {
       "model_id": "034a9b08acbf4227a12577e09e31ea04",
       "version_major": 2,
       "version_minor": 0
      },
      "text/plain": [
       "HBox(children=(FloatProgress(value=1.0, bar_style='info', max=1.0), HTML(value='')))"
      ]
     },
     "metadata": {
      "tags": []
     },
     "output_type": "display_data"
    },
    {
     "name": "stdout",
     "output_type": "stream",
     "text": [
      "Extracting data/MNIST/raw/t10k-images-idx3-ubyte.gz to data/MNIST/raw\n",
      "Downloading http://yann.lecun.com/exdb/mnist/t10k-labels-idx1-ubyte.gz to data/MNIST/raw/t10k-labels-idx1-ubyte.gz\n"
     ]
    },
    {
     "data": {
      "application/vnd.jupyter.widget-view+json": {
       "model_id": "f36f8286ad174f09a45bbaecef112882",
       "version_major": 2,
       "version_minor": 0
      },
      "text/plain": [
       "HBox(children=(FloatProgress(value=1.0, bar_style='info', max=1.0), HTML(value='')))"
      ]
     },
     "metadata": {
      "tags": []
     },
     "output_type": "display_data"
    },
    {
     "name": "stdout",
     "output_type": "stream",
     "text": [
      "Extracting data/MNIST/raw/t10k-labels-idx1-ubyte.gz to data/MNIST/raw\n",
      "Processing...\n",
      "Done!\n",
      "Training Data shape is:  [60000, 28, 28]\n",
      "Training Target shape is:  [60000]\n"
     ]
    },
    {
     "name": "stderr",
     "output_type": "stream",
     "text": [
      "/pytorch/torch/csrc/utils/tensor_numpy.cpp:141: UserWarning: The given NumPy array is not writeable, and PyTorch does not support non-writeable tensors. This means you can write to the underlying (supposedly non-writeable) NumPy array using the tensor. You may want to copy the array to protect its data or make it writeable before converting it to a tensor. This type of warning will be suppressed for the rest of this program.\n"
     ]
    }
   ],
   "source": [
    "# get data\n",
    "\n",
    "import urllib\n",
    "try:\n",
    "    # For python 2\n",
    "    class AppURLopener(urllib.FancyURLopener):\n",
    "        version = \"Mozilla/5.0\"\n",
    "\n",
    "    urllib._urlopener = AppURLopener()\n",
    "except AttributeError:\n",
    "    # For python 3\n",
    "    opener = urllib.request.build_opener()\n",
    "    opener.addheaders = [('User-agent', 'Mozilla/5.0')]\n",
    "    urllib.request.install_opener(opener)\n",
    "\n",
    "mnist = torchvision.datasets.MNIST(root='data', train=True, download=True) # train data only\n",
    "trainimages = mnist.data\n",
    "trainlabels = mnist.targets\n",
    "\n",
    "# check training data shape\n",
    "print (\"Training Data shape is: \", list(trainimages.size()))\n",
    "print (\"Training Target shape is: \", list(trainlabels.size()))"
   ]
  },
  {
   "cell_type": "markdown",
   "metadata": {
    "colab_type": "text",
    "id": "NfsxXO4RxgLC"
   },
   "source": [
    "## LeNet-5 Architecture\n",
    "\n",
    "![Original Architecture of LeNet-5](https://miro.medium.com/max/4308/1*1TI1aGBZ4dybR6__DI9dzA.png)\n",
    "\n",
    "The original architecture of LeNet-5. In this homework, we use max instead of average pooling for subsampling, and use fully connected instead of gaussian final layer. "
   ]
  },
  {
   "cell_type": "markdown",
   "metadata": {
    "colab_type": "text",
    "id": "tNfECWDixOHI"
   },
   "source": [
    "## PyTorch Implementation\n",
    "\n",
    "Please complete the definition of layers and forward pass in the following starter code."
   ]
  },
  {
   "cell_type": "code",
   "execution_count": 0,
   "metadata": {
    "colab": {
     "base_uri": "https://localhost:8080/",
     "height": 51
    },
    "colab_type": "code",
    "id": "EzJHjxSVMB1H",
    "outputId": "d3ebbb8a-624f-4228-c3ae-6df96459d2f1"
   },
   "outputs": [
    {
     "name": "stdout",
     "output_type": "stream",
     "text": [
      "\n",
      "\n"
     ]
    }
   ],
   "source": [
    "class LeNet5(nn.Module):\n",
    "\n",
    "    # definition of each neural network layer\n",
    "    def __init__(self):\n",
    "        super(LeNet5, self).__init__()\n",
    "        self.C1 = nn.Conv2d(1, 6, kernel_size=(5, 5))\n",
    "        self.S2 = nn.MaxPool2d(kernel_size=(2, 2), stride=2)\n",
    "\n",
    "        ####### Complete the defition of C3 and S4 ##########\n",
    "        # C3 is a convolutional layer with 16 5x5 kernels\n",
    "        # S4 is a max pooling layer with 2x2 kernel and stride 2\n",
    "\n",
    "        # self.C3 = ??\n",
    "        # self.S4 = ??\n",
    "        \n",
    "        #####################################################\n",
    "\n",
    "        self.C3 = nn.Conv2d(6,16,kernel_size=(5,5))\n",
    "        self.S4 = nn.MaxPool2d(kernel_size=(2,2), stride=2)\n",
    "        self.C5 = nn.Conv2d(16, 120, kernel_size=(5, 5))\n",
    "        self.F6 = nn.Linear(120, 84)\n",
    "\n",
    "        # output layer\n",
    "        self.OL = nn.Linear(84, 10)\n",
    "        \n",
    "        # record C5 & F6 activation for visualization\n",
    "        self.record = {\"C5\":self.C5, \"F6\":self.F6}\n",
    "\n",
    "    # definition of the forward pass\n",
    "    def forward(self, x):\n",
    "        \n",
    "        # input x are (batch, 1, 32, 32) grayscale images\n",
    "        # the first convolutional layer C1 with 6 kernels size 5×5 and a stride of 1\n",
    "        # output image size changes from (batch, 1, 32, 32) to (batch, 6, 28, 28)\n",
    "        # then pass the feature maps to the tanh activation function\n",
    "        x = torch.tanh(self.C1(x))\n",
    "\n",
    "        # pass the feature maps to a 2x2 max pooling layer S2 \n",
    "        # the output image dimension decreases halved -> (batch, 6, 14, 14)\n",
    "        x = self.S2(x)\n",
    "        x = torch.tanh(self.C3(x))\n",
    "        x = self.S4(x)\n",
    "        x = torch.tanh(self.C5(x))\n",
    "        \n",
    "        ####### Complete the foward pass C3 > S4 > C5 ###################################\n",
    "        # C3 is the second convolutional layer with 16 kernels size 5×5 and a stride of 1\n",
    "        # after C3, the output image size changes from (batch, 6, 14, 14) to (batch, 16, 10, 10)\n",
    "        # S4 is the second 2x2 pooling layer with strid 2\n",
    "        # after S4, the output image size changes from (batch, 16, 10, 10) to (batch, 16, 5, 5)\n",
    "        # C5 is the third convolutional layer with 120 kernels size 5×5 and a stride of 1\n",
    "        # after C5, the output image size changes from (batch, 16, 5, 5) to (batch, 120, 1, 1)\n",
    "        # C3, C5 is followed by tanh activations\n",
    "\n",
    "        # x = ??\n",
    "\n",
    "        ##################################################################################\n",
    "\n",
    "        # convert (batch, 120, 1, 1) feature maps to 1d features of size (batch, 120)\n",
    "        x = x.view(x.size(0), -1) \n",
    "        \n",
    "        # record the activation of C5 as a numpy array\n",
    "        # .detach() declares a tensor does not need gradients\n",
    "        # .numpy() convert a torch tensoer without gradient to numpy array\n",
    "        # independent of the forward pass, we have to make a copy of x by method .clone()\n",
    "        self.record[\"C5\"] = x.clone().detach().numpy()\n",
    "\n",
    "        # pass the activation to the fully connected layer F6 followed by a tanh activation\n",
    "        # output size changes from (batch, 120) to (batch, 86)\n",
    "        x = torch.tanh(self.F6(x))\n",
    "\n",
    "        # record the activat of F6 as numpy array\n",
    "        self.record[\"F6\"] = x.clone().detach().numpy()\n",
    "\n",
    "        # pass the activation to the final fully connected layer OL followed by a tanh activation\n",
    "        # output size changes from (batch, 86) to (batch, 10)\n",
    "        x = torch.tanh(self.OL(x))\n",
    "        \n",
    "        return x"
   ]
  },
  {
   "cell_type": "markdown",
   "metadata": {
    "colab_type": "text",
    "id": "TtyxZUX5f6_D"
   },
   "source": [
    "## Training with PyTorch\n",
    "\n",
    "Please read the following code carefully. Run the code to show that the learning curve goes down. (This code is written for pedagogical purposes, not efficiency.)"
   ]
  },
  {
   "cell_type": "code",
   "execution_count": 0,
   "metadata": {
    "colab": {
     "base_uri": "https://localhost:8080/",
     "height": 1000
    },
    "colab_type": "code",
    "id": "XvEkHlUmMB1J",
    "outputId": "7d566294-83f4-4a2f-a3e2-de2688f13bce"
   },
   "outputs": [
    {
     "data": {
      "image/png": "[encoded data removed]",
      "text/plain": [
       "<Figure size 1332x756 with 12 Axes>"
      ]
     },
     "metadata": {
      "tags": []
     },
     "output_type": "display_data"
    },
    {
     "name": "stdout",
     "output_type": "stream",
     "text": [
      "3.0325398445129395 seconds per 100 iterations\n"
     ]
    },
    {
     "data": {
      "image/png": "[encoded data removed]",
      "text/plain": [
       "<Figure size 1332x756 with 12 Axes>"
      ]
     },
     "metadata": {
      "needs_background": "light",
      "tags": []
     },
     "output_type": "display_data"
    }
   ],
   "source": [
    "ntrain = trainimages.shape[0];  # number of training examples\n",
    "nepoch = 10;                    # number of epochs through training set\n",
    "disp_freq = 100                 # display frequency\n",
    "batchsize = 32                  # minibatch size\n",
    "\n",
    "errs = []\n",
    "losses = []\n",
    "\n",
    "lenet5 = LeNet5()\n",
    "\n",
    "# use SGD optimizer, set learning rate parameter as 0.1\n",
    "optimizer = optim.SGD(lenet5.parameters(), lr=0.1)\n",
    "\n",
    "t_start = time.time()\n",
    "for iepoch in range(nepoch):\n",
    "    for t in range(int(ntrain / batchsize)):\n",
    "        batchindices = np.random.choice(ntrain, batchsize, replace=False)\n",
    "        trainlabels_iter = trainlabels[batchindices]\n",
    "        \n",
    "        # label 1 for the correct digit and -1 for the incorrect digits\n",
    "        y = torch.ones(10, batchsize) * (-1)\n",
    "        y[trainlabels_iter, torch.arange(batchsize, dtype=torch.int64)] = 1\n",
    "\n",
    "        # normalize input images\n",
    "        imgs = torch.zeros([batchsize, 1, 32, 32])\n",
    "        imgs[:, 0, 2: -2, 2: -2] = trainimages[batchindices].float() / 255.\n",
    "\n",
    "        # before the forward pass, clean the gradient buffers of all parameters\n",
    "        optimizer.zero_grad()\n",
    "\n",
    "        # forward pass\n",
    "        out = lenet5(imgs)\n",
    "        \n",
    "        # MSE loss\n",
    "        loss = torch.mean(0.5*(y - out.t())**2)\n",
    "\n",
    "        # backward pass\n",
    "        loss.backward()\n",
    "\n",
    "        # update parameters using SGD\n",
    "        optimizer.step()\n",
    "\n",
    "        # calculate error rate and loss for plot\n",
    "        pred = torch.argmax(out, dim=1)\n",
    "        err = torch.mean((pred != trainlabels_iter).float())\n",
    "        errs.append(err.detach().numpy())\n",
    "        losses.append(loss.detach().numpy())\n",
    "\n",
    "        \n",
    "        # plots\n",
    "        if (t + 1) % disp_freq == 0:\n",
    "            plt.gcf().clear()\n",
    "            visualize(len(errs) - 1, losses, errs, out[0,:].detach(), lenet5.record[\"F6\"][:, 0], \n",
    "                      lenet5.record[\"C5\"][:, 0], imgs[0, 0].detach(), lenet5.C1.weight.detach().squeeze())\n",
    "            print(str(time.time() - t_start) + \" seconds per \" + str(disp_freq) + \" iterations\")\n",
    "            t_start = time.time()\n",
    "            time.sleep(0.01)"
   ]
  }
 ],
 "metadata": {
  "colab": {
   "collapsed_sections": [],
   "name": "LeNet.ipynb",
   "provenance": []
  },
  "kernelspec": {
   "display_name": "Python 3",
   "language": "python",
   "name": "python3"
  },
  "language_info": {
   "codemirror_mode": {
    "name": "ipython",
    "version": 3
   },
   "file_extension": ".py",
   "mimetype": "text/x-python",
   "name": "python",
   "nbconvert_exporter": "python",
   "pygments_lexer": "ipython3",
   "version": "3.7.4"
  },
  "widgets": {
   "application/vnd.jupyter.widget-state+json": {
    "034a9b08acbf4227a12577e09e31ea04": {
     "model_module": "@jupyter-widgets/controls",
     "model_name": "HBoxModel",
     "state": {
      "_dom_classes": [],
      "_model_module": "@jupyter-widgets/controls",
      "_model_module_version": "1.5.0",
      "_model_name": "HBoxModel",
      "_view_count": null,
      "_view_module": "@jupyter-widgets/controls",
      "_view_module_version": "1.5.0",
      "_view_name": "HBoxView",
      "box_style": "",
      "children": [
       "IPY_MODEL_72aabe336ce94cfea22e01c2f7ecf39e",
       "IPY_MODEL_d818c0ff04554ffdbe47e4ae8f8c7826"
      ],
      "layout": "IPY_MODEL_4ee7978d52294fa7af6e26036e3a5f30"
     }
    },
    "12250ffe0f9d48f5a140f42db9dcdefe": {
     "model_module": "@jupyter-widgets/controls",
     "model_name": "FloatProgressModel",
     "state": {
      "_dom_classes": [],
      "_model_module": "@jupyter-widgets/controls",
      "_model_module_version": "1.5.0",
      "_model_name": "FloatProgressModel",
      "_view_count": null,
      "_view_module": "@jupyter-widgets/controls",
      "_view_module_version": "1.5.0",
      "_view_name": "ProgressView",
      "bar_style": "success",
      "description": "",
      "description_tooltip": null,
      "layout": "IPY_MODEL_4ca45f28b2bc4436bc636c3e2b9266df",
      "max": 1,
      "min": 0,
      "orientation": "horizontal",
      "style": "IPY_MODEL_5fd192d0d1f54d13ad4180f6edc0c0dc",
      "value": 1
     }
    },
    "306a1c440f8c40808d58c9ec63853e71": {
     "model_module": "@jupyter-widgets/controls",
     "model_name": "DescriptionStyleModel",
     "state": {
      "_model_module": "@jupyter-widgets/controls",
      "_model_module_version": "1.5.0",
      "_model_name": "DescriptionStyleModel",
      "_view_count": null,
      "_view_module": "@jupyter-widgets/base",
      "_view_module_version": "1.2.0",
      "_view_name": "StyleView",
      "description_width": ""
     }
    },
    "34c485383f5b4afcba42217e87e0991f": {
     "model_module": "@jupyter-widgets/controls",
     "model_name": "HTMLModel",
     "state": {
      "_dom_classes": [],
      "_model_module": "@jupyter-widgets/controls",
      "_model_module_version": "1.5.0",
      "_model_name": "HTMLModel",
      "_view_count": null,
      "_view_module": "@jupyter-widgets/controls",
      "_view_module_version": "1.5.0",
      "_view_name": "HTMLView",
      "description": "",
      "description_tooltip": null,
      "layout": "IPY_MODEL_589e7f606d524520984763c858b3839a",
      "placeholder": "​",
      "style": "IPY_MODEL_c883dbab08b64f05ac039c95e5f815ba",
      "value": " 9920512/? [00:04&lt;00:00, 2146319.10it/s]"
     }
    },
    "4ca45f28b2bc4436bc636c3e2b9266df": {
     "model_module": "@jupyter-widgets/base",
     "model_name": "LayoutModel",
     "state": {
      "_model_module": "@jupyter-widgets/base",
      "_model_module_version": "1.2.0",
      "_model_name": "LayoutModel",
      "_view_count": null,
      "_view_module": "@jupyter-widgets/base",
      "_view_module_version": "1.2.0",
      "_view_name": "LayoutView",
      "align_content": null,
      "align_items": null,
      "align_self": null,
      "border": null,
      "bottom": null,
      "display": null,
      "flex": null,
      "flex_flow": null,
      "grid_area": null,
      "grid_auto_columns": null,
      "grid_auto_flow": null,
      "grid_auto_rows": null,
      "grid_column": null,
      "grid_gap": null,
      "grid_row": null,
      "grid_template_areas": null,
      "grid_template_columns": null,
      "grid_template_rows": null,
      "height": null,
      "justify_content": null,
      "justify_items": null,
      "left": null,
      "margin": null,
      "max_height": null,
      "max_width": null,
      "min_height": null,
      "min_width": null,
      "object_fit": null,
      "object_position": null,
      "order": null,
      "overflow": null,
      "overflow_x": null,
      "overflow_y": null,
      "padding": null,
      "right": null,
      "top": null,
      "visibility": null,
      "width": null
     }
    },
    "4ee7978d52294fa7af6e26036e3a5f30": {
     "model_module": "@jupyter-widgets/base",
     "model_name": "LayoutModel",
     "state": {
      "_model_module": "@jupyter-widgets/base",
      "_model_module_version": "1.2.0",
      "_model_name": "LayoutModel",
      "_view_count": null,
      "_view_module": "@jupyter-widgets/base",
      "_view_module_version": "1.2.0",
      "_view_name": "LayoutView",
      "align_content": null,
      "align_items": null,
      "align_self": null,
      "border": null,
      "bottom": null,
      "display": null,
      "flex": null,
      "flex_flow": null,
      "grid_area": null,
      "grid_auto_columns": null,
      "grid_auto_flow": null,
      "grid_auto_rows": null,
      "grid_column": null,
      "grid_gap": null,
      "grid_row": null,
      "grid_template_areas": null,
      "grid_template_columns": null,
      "grid_template_rows": null,
      "height": null,
      "justify_content": null,
      "justify_items": null,
      "left": null,
      "margin": null,
      "max_height": null,
      "max_width": null,
      "min_height": null,
      "min_width": null,
      "object_fit": null,
      "object_position": null,
      "order": null,
      "overflow": null,
      "overflow_x": null,
      "overflow_y": null,
      "padding": null,
      "right": null,
      "top": null,
      "visibility": null,
      "width": null
     }
    },
    "589e7f606d524520984763c858b3839a": {
     "model_module": "@jupyter-widgets/base",
     "model_name": "LayoutModel",
     "state": {
      "_model_module": "@jupyter-widgets/base",
      "_model_module_version": "1.2.0",
      "_model_name": "LayoutModel",
      "_view_count": null,
      "_view_module": "@jupyter-widgets/base",
      "_view_module_version": "1.2.0",
      "_view_name": "LayoutView",
      "align_content": null,
      "align_items": null,
      "align_self": null,
      "border": null,
      "bottom": null,
      "display": null,
      "flex": null,
      "flex_flow": null,
      "grid_area": null,
      "grid_auto_columns": null,
      "grid_auto_flow": null,
      "grid_auto_rows": null,
      "grid_column": null,
      "grid_gap": null,
      "grid_row": null,
      "grid_template_areas": null,
      "grid_template_columns": null,
      "grid_template_rows": null,
      "height": null,
      "justify_content": null,
      "justify_items": null,
      "left": null,
      "margin": null,
      "max_height": null,
      "max_width": null,
      "min_height": null,
      "min_width": null,
      "object_fit": null,
      "object_position": null,
      "order": null,
      "overflow": null,
      "overflow_x": null,
      "overflow_y": null,
      "padding": null,
      "right": null,
      "top": null,
      "visibility": null,
      "width": null
     }
    },
    "5c27522f74224766b58f2ff1698bcf63": {
     "model_module": "@jupyter-widgets/controls",
     "model_name": "ProgressStyleModel",
     "state": {
      "_model_module": "@jupyter-widgets/controls",
      "_model_module_version": "1.5.0",
      "_model_name": "ProgressStyleModel",
      "_view_count": null,
      "_view_module": "@jupyter-widgets/base",
      "_view_module_version": "1.2.0",
      "_view_name": "StyleView",
      "bar_color": null,
      "description_width": "initial"
     }
    },
    "5fd192d0d1f54d13ad4180f6edc0c0dc": {
     "model_module": "@jupyter-widgets/controls",
     "model_name": "ProgressStyleModel",
     "state": {
      "_model_module": "@jupyter-widgets/controls",
      "_model_module_version": "1.5.0",
      "_model_name": "ProgressStyleModel",
      "_view_count": null,
      "_view_module": "@jupyter-widgets/base",
      "_view_module_version": "1.2.0",
      "_view_name": "StyleView",
      "bar_color": null,
      "description_width": "initial"
     }
    },
    "6806fc0522544ef0b7a63f564bf2ca80": {
     "model_module": "@jupyter-widgets/base",
     "model_name": "LayoutModel",
     "state": {
      "_model_module": "@jupyter-widgets/base",
      "_model_module_version": "1.2.0",
      "_model_name": "LayoutModel",
      "_view_count": null,
      "_view_module": "@jupyter-widgets/base",
      "_view_module_version": "1.2.0",
      "_view_name": "LayoutView",
      "align_content": null,
      "align_items": null,
      "align_self": null,
      "border": null,
      "bottom": null,
      "display": null,
      "flex": null,
      "flex_flow": null,
      "grid_area": null,
      "grid_auto_columns": null,
      "grid_auto_flow": null,
      "grid_auto_rows": null,
      "grid_column": null,
      "grid_gap": null,
      "grid_row": null,
      "grid_template_areas": null,
      "grid_template_columns": null,
      "grid_template_rows": null,
      "height": null,
      "justify_content": null,
      "justify_items": null,
      "left": null,
      "margin": null,
      "max_height": null,
      "max_width": null,
      "min_height": null,
      "min_width": null,
      "object_fit": null,
      "object_position": null,
      "order": null,
      "overflow": null,
      "overflow_x": null,
      "overflow_y": null,
      "padding": null,
      "right": null,
      "top": null,
      "visibility": null,
      "width": null
     }
    },
    "699af642cd6841758454cfb00493eca2": {
     "model_module": "@jupyter-widgets/controls",
     "model_name": "DescriptionStyleModel",
     "state": {
      "_model_module": "@jupyter-widgets/controls",
      "_model_module_version": "1.5.0",
      "_model_name": "DescriptionStyleModel",
      "_view_count": null,
      "_view_module": "@jupyter-widgets/base",
      "_view_module_version": "1.2.0",
      "_view_name": "StyleView",
      "description_width": ""
     }
    },
    "71c6bfeec3394c42af97bf10ddf8cf06": {
     "model_module": "@jupyter-widgets/controls",
     "model_name": "HTMLModel",
     "state": {
      "_dom_classes": [],
      "_model_module": "@jupyter-widgets/controls",
      "_model_module_version": "1.5.0",
      "_model_name": "HTMLModel",
      "_view_count": null,
      "_view_module": "@jupyter-widgets/controls",
      "_view_module_version": "1.5.0",
      "_view_name": "HTMLView",
      "description": "",
      "description_tooltip": null,
      "layout": "IPY_MODEL_f9fc00da03c7478dab539b91e85f569d",
      "placeholder": "​",
      "style": "IPY_MODEL_699af642cd6841758454cfb00493eca2",
      "value": " 32768/? [00:03&lt;00:00, 10725.63it/s]"
     }
    },
    "72aabe336ce94cfea22e01c2f7ecf39e": {
     "model_module": "@jupyter-widgets/controls",
     "model_name": "FloatProgressModel",
     "state": {
      "_dom_classes": [],
      "_model_module": "@jupyter-widgets/controls",
      "_model_module_version": "1.5.0",
      "_model_name": "FloatProgressModel",
      "_view_count": null,
      "_view_module": "@jupyter-widgets/controls",
      "_view_module_version": "1.5.0",
      "_view_name": "ProgressView",
      "bar_style": "success",
      "description": "",
      "description_tooltip": null,
      "layout": "IPY_MODEL_ce2faa5236a6498885ea1835018f2db9",
      "max": 1,
      "min": 0,
      "orientation": "horizontal",
      "style": "IPY_MODEL_86ed17599fc143258895b53d057d74ef",
      "value": 1
     }
    },
    "7ec32af1749446c798e1f2e5ad1d247c": {
     "model_module": "@jupyter-widgets/base",
     "model_name": "LayoutModel",
     "state": {
      "_model_module": "@jupyter-widgets/base",
      "_model_module_version": "1.2.0",
      "_model_name": "LayoutModel",
      "_view_count": null,
      "_view_module": "@jupyter-widgets/base",
      "_view_module_version": "1.2.0",
      "_view_name": "LayoutView",
      "align_content": null,
      "align_items": null,
      "align_self": null,
      "border": null,
      "bottom": null,
      "display": null,
      "flex": null,
      "flex_flow": null,
      "grid_area": null,
      "grid_auto_columns": null,
      "grid_auto_flow": null,
      "grid_auto_rows": null,
      "grid_column": null,
      "grid_gap": null,
      "grid_row": null,
      "grid_template_areas": null,
      "grid_template_columns": null,
      "grid_template_rows": null,
      "height": null,
      "justify_content": null,
      "justify_items": null,
      "left": null,
      "margin": null,
      "max_height": null,
      "max_width": null,
      "min_height": null,
      "min_width": null,
      "object_fit": null,
      "object_position": null,
      "order": null,
      "overflow": null,
      "overflow_x": null,
      "overflow_y": null,
      "padding": null,
      "right": null,
      "top": null,
      "visibility": null,
      "width": null
     }
    },
    "86ed17599fc143258895b53d057d74ef": {
     "model_module": "@jupyter-widgets/controls",
     "model_name": "ProgressStyleModel",
     "state": {
      "_model_module": "@jupyter-widgets/controls",
      "_model_module_version": "1.5.0",
      "_model_name": "ProgressStyleModel",
      "_view_count": null,
      "_view_module": "@jupyter-widgets/base",
      "_view_module_version": "1.2.0",
      "_view_name": "StyleView",
      "bar_color": null,
      "description_width": "initial"
     }
    },
    "90e88616234a45f48f6c4b4849592b47": {
     "model_module": "@jupyter-widgets/base",
     "model_name": "LayoutModel",
     "state": {
      "_model_module": "@jupyter-widgets/base",
      "_model_module_version": "1.2.0",
      "_model_name": "LayoutModel",
      "_view_count": null,
      "_view_module": "@jupyter-widgets/base",
      "_view_module_version": "1.2.0",
      "_view_name": "LayoutView",
      "align_content": null,
      "align_items": null,
      "align_self": null,
      "border": null,
      "bottom": null,
      "display": null,
      "flex": null,
      "flex_flow": null,
      "grid_area": null,
      "grid_auto_columns": null,
      "grid_auto_flow": null,
      "grid_auto_rows": null,
      "grid_column": null,
      "grid_gap": null,
      "grid_row": null,
      "grid_template_areas": null,
      "grid_template_columns": null,
      "grid_template_rows": null,
      "height": null,
      "justify_content": null,
      "justify_items": null,
      "left": null,
      "margin": null,
      "max_height": null,
      "max_width": null,
      "min_height": null,
      "min_width": null,
      "object_fit": null,
      "object_position": null,
      "order": null,
      "overflow": null,
      "overflow_x": null,
      "overflow_y": null,
      "padding": null,
      "right": null,
      "top": null,
      "visibility": null,
      "width": null
     }
    },
    "a12b162715f74c8197adb985c3934900": {
     "model_module": "@jupyter-widgets/controls",
     "model_name": "HTMLModel",
     "state": {
      "_dom_classes": [],
      "_model_module": "@jupyter-widgets/controls",
      "_model_module_version": "1.5.0",
      "_model_name": "HTMLModel",
      "_view_count": null,
      "_view_module": "@jupyter-widgets/controls",
      "_view_module_version": "1.5.0",
      "_view_name": "HTMLView",
      "description": "",
      "description_tooltip": null,
      "layout": "IPY_MODEL_f7556ccdcae3443a9239eb5287eb7cce",
      "placeholder": "​",
      "style": "IPY_MODEL_306a1c440f8c40808d58c9ec63853e71",
      "value": " 8192/? [00:00&lt;00:00, 19953.67it/s]"
     }
    },
    "b4c3e99c6f1446e782517b1594c7ea86": {
     "model_module": "@jupyter-widgets/controls",
     "model_name": "FloatProgressModel",
     "state": {
      "_dom_classes": [],
      "_model_module": "@jupyter-widgets/controls",
      "_model_module_version": "1.5.0",
      "_model_name": "FloatProgressModel",
      "_view_count": null,
      "_view_module": "@jupyter-widgets/controls",
      "_view_module_version": "1.5.0",
      "_view_name": "ProgressView",
      "bar_style": "success",
      "description": "",
      "description_tooltip": null,
      "layout": "IPY_MODEL_7ec32af1749446c798e1f2e5ad1d247c",
      "max": 1,
      "min": 0,
      "orientation": "horizontal",
      "style": "IPY_MODEL_e5e2916199bb48daac4c45e21b74f3de",
      "value": 1
     }
    },
    "bbff0dabdc1c43d9bca824c8a2a21d10": {
     "model_module": "@jupyter-widgets/base",
     "model_name": "LayoutModel",
     "state": {
      "_model_module": "@jupyter-widgets/base",
      "_model_module_version": "1.2.0",
      "_model_name": "LayoutModel",
      "_view_count": null,
      "_view_module": "@jupyter-widgets/base",
      "_view_module_version": "1.2.0",
      "_view_name": "LayoutView",
      "align_content": null,
      "align_items": null,
      "align_self": null,
      "border": null,
      "bottom": null,
      "display": null,
      "flex": null,
      "flex_flow": null,
      "grid_area": null,
      "grid_auto_columns": null,
      "grid_auto_flow": null,
      "grid_auto_rows": null,
      "grid_column": null,
      "grid_gap": null,
      "grid_row": null,
      "grid_template_areas": null,
      "grid_template_columns": null,
      "grid_template_rows": null,
      "height": null,
      "justify_content": null,
      "justify_items": null,
      "left": null,
      "margin": null,
      "max_height": null,
      "max_width": null,
      "min_height": null,
      "min_width": null,
      "object_fit": null,
      "object_position": null,
      "order": null,
      "overflow": null,
      "overflow_x": null,
      "overflow_y": null,
      "padding": null,
      "right": null,
      "top": null,
      "visibility": null,
      "width": null
     }
    },
    "c2c8cc22aead4177b20de21624e7dfe3": {
     "model_module": "@jupyter-widgets/controls",
     "model_name": "HBoxModel",
     "state": {
      "_dom_classes": [],
      "_model_module": "@jupyter-widgets/controls",
      "_model_module_version": "1.5.0",
      "_model_name": "HBoxModel",
      "_view_count": null,
      "_view_module": "@jupyter-widgets/controls",
      "_view_module_version": "1.5.0",
      "_view_name": "HBoxView",
      "box_style": "",
      "children": [
       "IPY_MODEL_b4c3e99c6f1446e782517b1594c7ea86",
       "IPY_MODEL_71c6bfeec3394c42af97bf10ddf8cf06"
      ],
      "layout": "IPY_MODEL_bbff0dabdc1c43d9bca824c8a2a21d10"
     }
    },
    "c54e7bbdf32e427f84b3e4214562fda0": {
     "model_module": "@jupyter-widgets/controls",
     "model_name": "HBoxModel",
     "state": {
      "_dom_classes": [],
      "_model_module": "@jupyter-widgets/controls",
      "_model_module_version": "1.5.0",
      "_model_name": "HBoxModel",
      "_view_count": null,
      "_view_module": "@jupyter-widgets/controls",
      "_view_module_version": "1.5.0",
      "_view_name": "HBoxView",
      "box_style": "",
      "children": [
       "IPY_MODEL_c7b4f20e99e3421c8d98e97ffc1ebff5",
       "IPY_MODEL_34c485383f5b4afcba42217e87e0991f"
      ],
      "layout": "IPY_MODEL_90e88616234a45f48f6c4b4849592b47"
     }
    },
    "c7b4f20e99e3421c8d98e97ffc1ebff5": {
     "model_module": "@jupyter-widgets/controls",
     "model_name": "FloatProgressModel",
     "state": {
      "_dom_classes": [],
      "_model_module": "@jupyter-widgets/controls",
      "_model_module_version": "1.5.0",
      "_model_name": "FloatProgressModel",
      "_view_count": null,
      "_view_module": "@jupyter-widgets/controls",
      "_view_module_version": "1.5.0",
      "_view_name": "ProgressView",
      "bar_style": "success",
      "description": "",
      "description_tooltip": null,
      "layout": "IPY_MODEL_6806fc0522544ef0b7a63f564bf2ca80",
      "max": 1,
      "min": 0,
      "orientation": "horizontal",
      "style": "IPY_MODEL_5c27522f74224766b58f2ff1698bcf63",
      "value": 1
     }
    },
    "c883dbab08b64f05ac039c95e5f815ba": {
     "model_module": "@jupyter-widgets/controls",
     "model_name": "DescriptionStyleModel",
     "state": {
      "_model_module": "@jupyter-widgets/controls",
      "_model_module_version": "1.5.0",
      "_model_name": "DescriptionStyleModel",
      "_view_count": null,
      "_view_module": "@jupyter-widgets/base",
      "_view_module_version": "1.2.0",
      "_view_name": "StyleView",
      "description_width": ""
     }
    },
    "cace08303dd64ef995657f7b9271427e": {
     "model_module": "@jupyter-widgets/base",
     "model_name": "LayoutModel",
     "state": {
      "_model_module": "@jupyter-widgets/base",
      "_model_module_version": "1.2.0",
      "_model_name": "LayoutModel",
      "_view_count": null,
      "_view_module": "@jupyter-widgets/base",
      "_view_module_version": "1.2.0",
      "_view_name": "LayoutView",
      "align_content": null,
      "align_items": null,
      "align_self": null,
      "border": null,
      "bottom": null,
      "display": null,
      "flex": null,
      "flex_flow": null,
      "grid_area": null,
      "grid_auto_columns": null,
      "grid_auto_flow": null,
      "grid_auto_rows": null,
      "grid_column": null,
      "grid_gap": null,
      "grid_row": null,
      "grid_template_areas": null,
      "grid_template_columns": null,
      "grid_template_rows": null,
      "height": null,
      "justify_content": null,
      "justify_items": null,
      "left": null,
      "margin": null,
      "max_height": null,
      "max_width": null,
      "min_height": null,
      "min_width": null,
      "object_fit": null,
      "object_position": null,
      "order": null,
      "overflow": null,
      "overflow_x": null,
      "overflow_y": null,
      "padding": null,
      "right": null,
      "top": null,
      "visibility": null,
      "width": null
     }
    },
    "ce2faa5236a6498885ea1835018f2db9": {
     "model_module": "@jupyter-widgets/base",
     "model_name": "LayoutModel",
     "state": {
      "_model_module": "@jupyter-widgets/base",
      "_model_module_version": "1.2.0",
      "_model_name": "LayoutModel",
      "_view_count": null,
      "_view_module": "@jupyter-widgets/base",
      "_view_module_version": "1.2.0",
      "_view_name": "LayoutView",
      "align_content": null,
      "align_items": null,
      "align_self": null,
      "border": null,
      "bottom": null,
      "display": null,
      "flex": null,
      "flex_flow": null,
      "grid_area": null,
      "grid_auto_columns": null,
      "grid_auto_flow": null,
      "grid_auto_rows": null,
      "grid_column": null,
      "grid_gap": null,
      "grid_row": null,
      "grid_template_areas": null,
      "grid_template_columns": null,
      "grid_template_rows": null,
      "height": null,
      "justify_content": null,
      "justify_items": null,
      "left": null,
      "margin": null,
      "max_height": null,
      "max_width": null,
      "min_height": null,
      "min_width": null,
      "object_fit": null,
      "object_position": null,
      "order": null,
      "overflow": null,
      "overflow_x": null,
      "overflow_y": null,
      "padding": null,
      "right": null,
      "top": null,
      "visibility": null,
      "width": null
     }
    },
    "d818c0ff04554ffdbe47e4ae8f8c7826": {
     "model_module": "@jupyter-widgets/controls",
     "model_name": "HTMLModel",
     "state": {
      "_dom_classes": [],
      "_model_module": "@jupyter-widgets/controls",
      "_model_module_version": "1.5.0",
      "_model_name": "HTMLModel",
      "_view_count": null,
      "_view_module": "@jupyter-widgets/controls",
      "_view_module_version": "1.5.0",
      "_view_name": "HTMLView",
      "description": "",
      "description_tooltip": null,
      "layout": "IPY_MODEL_e7a2f74689314b568d577a51cd342b8e",
      "placeholder": "​",
      "style": "IPY_MODEL_fcb505ff012a48a7b827cd80375c73d1",
      "value": " 1654784/? [00:01&lt;00:00, 1451433.95it/s]"
     }
    },
    "e5e2916199bb48daac4c45e21b74f3de": {
     "model_module": "@jupyter-widgets/controls",
     "model_name": "ProgressStyleModel",
     "state": {
      "_model_module": "@jupyter-widgets/controls",
      "_model_module_version": "1.5.0",
      "_model_name": "ProgressStyleModel",
      "_view_count": null,
      "_view_module": "@jupyter-widgets/base",
      "_view_module_version": "1.2.0",
      "_view_name": "StyleView",
      "bar_color": null,
      "description_width": "initial"
     }
    },
    "e7a2f74689314b568d577a51cd342b8e": {
     "model_module": "@jupyter-widgets/base",
     "model_name": "LayoutModel",
     "state": {
      "_model_module": "@jupyter-widgets/base",
      "_model_module_version": "1.2.0",
      "_model_name": "LayoutModel",
      "_view_count": null,
      "_view_module": "@jupyter-widgets/base",
      "_view_module_version": "1.2.0",
      "_view_name": "LayoutView",
      "align_content": null,
      "align_items": null,
      "align_self": null,
      "border": null,
      "bottom": null,
      "display": null,
      "flex": null,
      "flex_flow": null,
      "grid_area": null,
      "grid_auto_columns": null,
      "grid_auto_flow": null,
      "grid_auto_rows": null,
      "grid_column": null,
      "grid_gap": null,
      "grid_row": null,
      "grid_template_areas": null,
      "grid_template_columns": null,
      "grid_template_rows": null,
      "height": null,
      "justify_content": null,
      "justify_items": null,
      "left": null,
      "margin": null,
      "max_height": null,
      "max_width": null,
      "min_height": null,
      "min_width": null,
      "object_fit": null,
      "object_position": null,
      "order": null,
      "overflow": null,
      "overflow_x": null,
      "overflow_y": null,
      "padding": null,
      "right": null,
      "top": null,
      "visibility": null,
      "width": null
     }
    },
    "f36f8286ad174f09a45bbaecef112882": {
     "model_module": "@jupyter-widgets/controls",
     "model_name": "HBoxModel",
     "state": {
      "_dom_classes": [],
      "_model_module": "@jupyter-widgets/controls",
      "_model_module_version": "1.5.0",
      "_model_name": "HBoxModel",
      "_view_count": null,
      "_view_module": "@jupyter-widgets/controls",
      "_view_module_version": "1.5.0",
      "_view_name": "HBoxView",
      "box_style": "",
      "children": [
       "IPY_MODEL_12250ffe0f9d48f5a140f42db9dcdefe",
       "IPY_MODEL_a12b162715f74c8197adb985c3934900"
      ],
      "layout": "IPY_MODEL_cace08303dd64ef995657f7b9271427e"
     }
    },
    "f7556ccdcae3443a9239eb5287eb7cce": {
     "model_module": "@jupyter-widgets/base",
     "model_name": "LayoutModel",
     "state": {
      "_model_module": "@jupyter-widgets/base",
      "_model_module_version": "1.2.0",
      "_model_name": "LayoutModel",
      "_view_count": null,
      "_view_module": "@jupyter-widgets/base",
      "_view_module_version": "1.2.0",
      "_view_name": "LayoutView",
      "align_content": null,
      "align_items": null,
      "align_self": null,
      "border": null,
      "bottom": null,
      "display": null,
      "flex": null,
      "flex_flow": null,
      "grid_area": null,
      "grid_auto_columns": null,
      "grid_auto_flow": null,
      "grid_auto_rows": null,
      "grid_column": null,
      "grid_gap": null,
      "grid_row": null,
      "grid_template_areas": null,
      "grid_template_columns": null,
      "grid_template_rows": null,
      "height": null,
      "justify_content": null,
      "justify_items": null,
      "left": null,
      "margin": null,
      "max_height": null,
      "max_width": null,
      "min_height": null,
      "min_width": null,
      "object_fit": null,
      "object_position": null,
      "order": null,
      "overflow": null,
      "overflow_x": null,
      "overflow_y": null,
      "padding": null,
      "right": null,
      "top": null,
      "visibility": null,
      "width": null
     }
    },
    "f9fc00da03c7478dab539b91e85f569d": {
     "model_module": "@jupyter-widgets/base",
     "model_name": "LayoutModel",
     "state": {
      "_model_module": "@jupyter-widgets/base",
      "_model_module_version": "1.2.0",
      "_model_name": "LayoutModel",
      "_view_count": null,
      "_view_module": "@jupyter-widgets/base",
      "_view_module_version": "1.2.0",
      "_view_name": "LayoutView",
      "align_content": null,
      "align_items": null,
      "align_self": null,
      "border": null,
      "bottom": null,
      "display": null,
      "flex": null,
      "flex_flow": null,
      "grid_area": null,
      "grid_auto_columns": null,
      "grid_auto_flow": null,
      "grid_auto_rows": null,
      "grid_column": null,
      "grid_gap": null,
      "grid_row": null,
      "grid_template_areas": null,
      "grid_template_columns": null,
      "grid_template_rows": null,
      "height": null,
      "justify_content": null,
      "justify_items": null,
      "left": null,
      "margin": null,
      "max_height": null,
      "max_width": null,
      "min_height": null,
      "min_width": null,
      "object_fit": null,
      "object_position": null,
      "order": null,
      "overflow": null,
      "overflow_x": null,
      "overflow_y": null,
      "padding": null,
      "right": null,
      "top": null,
      "visibility": null,
      "width": null
     }
    },
    "fcb505ff012a48a7b827cd80375c73d1": {
     "model_module": "@jupyter-widgets/controls",
     "model_name": "DescriptionStyleModel",
     "state": {
      "_model_module": "@jupyter-widgets/controls",
      "_model_module_version": "1.5.0",
      "_model_name": "DescriptionStyleModel",
      "_view_count": null,
      "_view_module": "@jupyter-widgets/base",
      "_view_module_version": "1.2.0",
      "_view_name": "StyleView",
      "description_width": ""
     }
    }
   }
  }
 },
 "nbformat": 4,
 "nbformat_minor": 1
}
