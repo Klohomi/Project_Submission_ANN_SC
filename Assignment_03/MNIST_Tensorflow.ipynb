{
  "nbformat": 4,
  "nbformat_minor": 0,
  "metadata": {
    "colab": {
      "name": "MNIST_Tensorflow.ipynb",
      "provenance": [],
      "collapsed_sections": [],
      "authorship_tag": "ABX9TyONMFyHlGmvR2CDSuFdZQWk",
      "include_colab_link": true
    },
    "kernelspec": {
      "name": "python3",
      "display_name": "Python 3"
    },
    "accelerator": "GPU"
  },
  "cells": [
    {
      "cell_type": "markdown",
      "metadata": {
        "id": "view-in-github",
        "colab_type": "text"
      },
      "source": [
        "<a href=\"https://colab.research.google.com/github/atreya221/Project_Submission_ANN_SC/blob/master/Assignment_03/MNIST_Tensorflow.ipynb\" target=\"_parent\"><img src=\"https://colab.research.google.com/assets/colab-badge.svg\" alt=\"Open In Colab\"/></a>"
      ]
    },
    {
      "cell_type": "markdown",
      "metadata": {
        "id": "n-27ZBa6fYzU",
        "colab_type": "text"
      },
      "source": [
        "#MNIST dataset training using tensorflow"
      ]
    },
    {
      "cell_type": "markdown",
      "metadata": {
        "id": "nMiLqhQ4fR-b",
        "colab_type": "text"
      },
      "source": [
        "##Import essential modules"
      ]
    },
    {
      "cell_type": "code",
      "metadata": {
        "id": "SjTCxP6MdPlQ",
        "colab_type": "code",
        "colab": {}
      },
      "source": [
        "%tensorflow_version 2.x\n",
        "import tensorflow as tf\n",
        "from tensorflow import keras\n",
        "import tensorflow_datasets as tfds"
      ],
      "execution_count": 1,
      "outputs": []
    },
    {
      "cell_type": "code",
      "metadata": {
        "id": "WtRLXhiQdjvl",
        "colab_type": "code",
        "colab": {}
      },
      "source": [
        "%matplotlib inline\n",
        "import matplotlib.pyplot as plt\n",
        "import numpy as np"
      ],
      "execution_count": 2,
      "outputs": []
    },
    {
      "cell_type": "code",
      "metadata": {
        "id": "6956lJiIdqsw",
        "colab_type": "code",
        "colab": {
          "base_uri": "https://localhost:8080/",
          "height": 35
        },
        "outputId": "dc654cea-18b8-406a-bcd3-9187beec2d62"
      },
      "source": [
        "print(tf.__version__)"
      ],
      "execution_count": 3,
      "outputs": [
        {
          "output_type": "stream",
          "text": [
            "2.3.0\n"
          ],
          "name": "stdout"
        }
      ]
    },
    {
      "cell_type": "markdown",
      "metadata": {
        "id": "LMqq-g_WfLd1",
        "colab_type": "text"
      },
      "source": [
        "##Load MNIST dataset"
      ]
    },
    {
      "cell_type": "code",
      "metadata": {
        "id": "XDl2Nf1jdv-7",
        "colab_type": "code",
        "colab": {}
      },
      "source": [
        "((img_train,label_train),(img_test,label_test)) = tfds.as_numpy(tfds.load(\n",
        "    'mnist',\n",
        "    split = ['train','test'],\n",
        "    batch_size = -1,\n",
        "    as_supervised = True,\n",
        "))"
      ],
      "execution_count": 15,
      "outputs": []
    },
    {
      "cell_type": "code",
      "metadata": {
        "id": "nnL3fiAnv4d4",
        "colab_type": "code",
        "colab": {
          "base_uri": "https://localhost:8080/",
          "height": 283
        },
        "outputId": "c2558367-9728-4392-a085-817015f74f7e"
      },
      "source": [
        "plt.imshow(img_train[0].reshape(28,-1),cmap='gray')\n",
        "plt.show()\n",
        "print(label_train[0])"
      ],
      "execution_count": 16,
      "outputs": [
        {
          "output_type": "display_data",
          "data": {
            "image/png": "[encoded data removed]",
            "text/plain": [
              "<Figure size 432x288 with 1 Axes>"
            ]
          },
          "metadata": {
            "tags": [],
            "needs_background": "light"
          }
        },
        {
          "output_type": "stream",
          "text": [
            "4\n"
          ],
          "name": "stdout"
        }
      ]
    },
    {
      "cell_type": "markdown",
      "metadata": {
        "id": "U3kXXCNKfi_n",
        "colab_type": "text"
      },
      "source": [
        "##Build training pipeline"
      ]
    },
    {
      "cell_type": "code",
      "metadata": {
        "id": "WqdFELppwo5o",
        "colab_type": "code",
        "colab": {}
      },
      "source": [
        "(ds_train, ds_test), ds_info = tfds.load(\n",
        "    'mnist',\n",
        "    split=['train', 'test'],\n",
        "    shuffle_files=True,\n",
        "    as_supervised=True,\n",
        "    with_info=True,\n",
        ")"
      ],
      "execution_count": 28,
      "outputs": []
    },
    {
      "cell_type": "code",
      "metadata": {
        "id": "xBsUvsgmeJ8Z",
        "colab_type": "code",
        "colab": {}
      },
      "source": [
        "def normalize_img(image, label):\n",
        "  \"\"\" cast image data from `uint8` to `float32` type \"\"\"\n",
        "  return tf.cast(image, tf.float32)/255., label"
      ],
      "execution_count": 29,
      "outputs": []
    },
    {
      "cell_type": "code",
      "metadata": {
        "id": "ZPkmNgN4fiLJ",
        "colab_type": "code",
        "colab": {}
      },
      "source": [
        "ds_train = ds_train.map(normalize_img,num_parallel_calls=tf.data.experimental.AUTOTUNE)\n",
        "ds_train = ds_train.cache()\n",
        "ds_train = ds_train.shuffle(ds_info.splits['train'].num_examples)\n",
        "ds_train = ds_train.batch(128)\n",
        "ds_train = ds_train.prefetch(tf.data.experimental.AUTOTUNE)"
      ],
      "execution_count": 30,
      "outputs": []
    },
    {
      "cell_type": "markdown",
      "metadata": {
        "id": "Jvrc3PbRiMuN",
        "colab_type": "text"
      },
      "source": [
        "##Build evaluation pipeline"
      ]
    },
    {
      "cell_type": "code",
      "metadata": {
        "id": "LwYXlo64iOt0",
        "colab_type": "code",
        "colab": {}
      },
      "source": [
        "ds_test = ds_test.map(normalize_img,num_parallel_calls = tf.data.experimental.AUTOTUNE)\n",
        "# ds.test = ds_test.shuffle(ds_info.splits['test'].num_examples)  ** NO SHUFFLING IN TEST SET DATA **\n",
        "ds_test = ds_test.batch(128)\n",
        "ds_test = ds_test.cache()\n",
        "ds_test = ds_test.prefetch(tf.data.experimental.AUTOTUNE)"
      ],
      "execution_count": 31,
      "outputs": []
    },
    {
      "cell_type": "markdown",
      "metadata": {
        "id": "aVht3FYninyH",
        "colab_type": "text"
      },
      "source": [
        "##Create and train the Model"
      ]
    },
    {
      "cell_type": "markdown",
      "metadata": {
        "id": "eRFsDDqysZZg",
        "colab_type": "text"
      },
      "source": [
        "###1. Define the Model"
      ]
    },
    {
      "cell_type": "code",
      "metadata": {
        "id": "AdNsrCimj5Z-",
        "colab_type": "code",
        "colab": {}
      },
      "source": [
        "model = keras.models.Sequential([\n",
        "  keras.layers.Flatten(input_shape = (28,28,1)),\n",
        "  keras.layers.Dense(128, activation='relu'),\n",
        "  keras.layers.Dense(10, activation='softmax')\n",
        "])"
      ],
      "execution_count": 32,
      "outputs": []
    },
    {
      "cell_type": "code",
      "metadata": {
        "id": "BVwrVpjTolPW",
        "colab_type": "code",
        "colab": {
          "base_uri": "https://localhost:8080/",
          "height": 285
        },
        "outputId": "8dce8611-aa88-4295-fbad-123ed62155b0"
      },
      "source": [
        "print(model.summary())"
      ],
      "execution_count": 33,
      "outputs": [
        {
          "output_type": "stream",
          "text": [
            "Model: \"sequential_1\"\n",
            "_________________________________________________________________\n",
            "Layer (type)                 Output Shape              Param #   \n",
            "=================================================================\n",
            "flatten_1 (Flatten)          (None, 784)               0         \n",
            "_________________________________________________________________\n",
            "dense_2 (Dense)              (None, 128)               100480    \n",
            "_________________________________________________________________\n",
            "dense_3 (Dense)              (None, 10)                1290      \n",
            "=================================================================\n",
            "Total params: 101,770\n",
            "Trainable params: 101,770\n",
            "Non-trainable params: 0\n",
            "_________________________________________________________________\n",
            "None\n"
          ],
          "name": "stdout"
        }
      ]
    },
    {
      "cell_type": "markdown",
      "metadata": {
        "id": "Pos-3Pe8shc4",
        "colab_type": "text"
      },
      "source": [
        "###2. Compile the Model with suitable loss function and optimizer"
      ]
    },
    {
      "cell_type": "code",
      "metadata": {
        "id": "_KAmIpwJqQLY",
        "colab_type": "code",
        "colab": {}
      },
      "source": [
        "model.compile(loss = 'sparse_categorical_crossentropy', optimizer=keras.optimizers.Adam(0.001), metrics=['accuracy'])"
      ],
      "execution_count": 34,
      "outputs": []
    },
    {
      "cell_type": "markdown",
      "metadata": {
        "id": "YdJZiQBMssch",
        "colab_type": "text"
      },
      "source": [
        "###3. Train the Model "
      ]
    },
    {
      "cell_type": "code",
      "metadata": {
        "id": "oYdECpSyruVC",
        "colab_type": "code",
        "colab": {
          "base_uri": "https://localhost:8080/",
          "height": 770
        },
        "outputId": "1b229ddd-5034-4569-891c-cfda95f9788d"
      },
      "source": [
        "model.fit(ds_train,epochs=20,validation_data=ds_test)"
      ],
      "execution_count": 35,
      "outputs": [
        {
          "output_type": "stream",
          "text": [
            "Epoch 1/20\n",
            "469/469 [==============================] - 3s 6ms/step - loss: 0.3587 - accuracy: 0.9021 - val_loss: 0.1850 - val_accuracy: 0.9472\n",
            "Epoch 2/20\n",
            "469/469 [==============================] - 1s 3ms/step - loss: 0.1599 - accuracy: 0.9546 - val_loss: 0.1349 - val_accuracy: 0.9611\n",
            "Epoch 3/20\n",
            "469/469 [==============================] - 1s 3ms/step - loss: 0.1138 - accuracy: 0.9670 - val_loss: 0.1036 - val_accuracy: 0.9686\n",
            "Epoch 4/20\n",
            "469/469 [==============================] - 1s 3ms/step - loss: 0.0883 - accuracy: 0.9747 - val_loss: 0.0921 - val_accuracy: 0.9724\n",
            "Epoch 5/20\n",
            "469/469 [==============================] - 1s 3ms/step - loss: 0.0712 - accuracy: 0.9795 - val_loss: 0.0857 - val_accuracy: 0.9741\n",
            "Epoch 6/20\n",
            "469/469 [==============================] - 1s 3ms/step - loss: 0.0593 - accuracy: 0.9828 - val_loss: 0.0820 - val_accuracy: 0.9744\n",
            "Epoch 7/20\n",
            "469/469 [==============================] - 1s 3ms/step - loss: 0.0498 - accuracy: 0.9858 - val_loss: 0.0737 - val_accuracy: 0.9779\n",
            "Epoch 8/20\n",
            "469/469 [==============================] - 1s 2ms/step - loss: 0.0418 - accuracy: 0.9884 - val_loss: 0.0757 - val_accuracy: 0.9769\n",
            "Epoch 9/20\n",
            "469/469 [==============================] - 1s 3ms/step - loss: 0.0356 - accuracy: 0.9903 - val_loss: 0.0735 - val_accuracy: 0.9780\n",
            "Epoch 10/20\n",
            "469/469 [==============================] - 1s 2ms/step - loss: 0.0303 - accuracy: 0.9913 - val_loss: 0.0681 - val_accuracy: 0.9793\n",
            "Epoch 11/20\n",
            "469/469 [==============================] - 1s 2ms/step - loss: 0.0247 - accuracy: 0.9940 - val_loss: 0.0701 - val_accuracy: 0.9784\n",
            "Epoch 12/20\n",
            "469/469 [==============================] - 1s 2ms/step - loss: 0.0217 - accuracy: 0.9945 - val_loss: 0.0721 - val_accuracy: 0.9781\n",
            "Epoch 13/20\n",
            "469/469 [==============================] - 1s 3ms/step - loss: 0.0184 - accuracy: 0.9955 - val_loss: 0.0773 - val_accuracy: 0.9779\n",
            "Epoch 14/20\n",
            "469/469 [==============================] - 1s 2ms/step - loss: 0.0152 - accuracy: 0.9964 - val_loss: 0.0753 - val_accuracy: 0.9786\n",
            "Epoch 15/20\n",
            "469/469 [==============================] - 1s 3ms/step - loss: 0.0138 - accuracy: 0.9970 - val_loss: 0.0794 - val_accuracy: 0.9776\n",
            "Epoch 16/20\n",
            "469/469 [==============================] - 1s 2ms/step - loss: 0.0109 - accuracy: 0.9978 - val_loss: 0.0746 - val_accuracy: 0.9793\n",
            "Epoch 17/20\n",
            "469/469 [==============================] - 1s 2ms/step - loss: 0.0096 - accuracy: 0.9980 - val_loss: 0.0739 - val_accuracy: 0.9790\n",
            "Epoch 18/20\n",
            "469/469 [==============================] - 1s 2ms/step - loss: 0.0088 - accuracy: 0.9984 - val_loss: 0.0750 - val_accuracy: 0.9795\n",
            "Epoch 19/20\n",
            "469/469 [==============================] - 1s 2ms/step - loss: 0.0071 - accuracy: 0.9988 - val_loss: 0.0767 - val_accuracy: 0.9794\n",
            "Epoch 20/20\n",
            "469/469 [==============================] - 1s 2ms/step - loss: 0.0055 - accuracy: 0.9991 - val_loss: 0.0779 - val_accuracy: 0.9797\n"
          ],
          "name": "stdout"
        },
        {
          "output_type": "execute_result",
          "data": {
            "text/plain": [
              "<tensorflow.python.keras.callbacks.History at 0x7fce85e19780>"
            ]
          },
          "metadata": {
            "tags": []
          },
          "execution_count": 35
        }
      ]
    },
    {
      "cell_type": "code",
      "metadata": {
        "id": "YHPxb8_nxxyi",
        "colab_type": "code",
        "colab": {}
      },
      "source": [
        ""
      ],
      "execution_count": null,
      "outputs": []
    }
  ]
}