{
  "nbformat": 4,
  "nbformat_minor": 0,
  "metadata": {
    "colab": {
      "name": "Pytorch_MNIST.ipynb",
      "provenance": [],
      "collapsed_sections": []
    },
    "kernelspec": {
      "name": "python3",
      "display_name": "Python 3"
    },
    "accelerator": "GPU"
  },
  "cells": [
    {
      "cell_type": "code",
      "metadata": {
        "id": "FECFbskXo9WE",
        "colab_type": "code",
        "outputId": "6f054476-b06c-4875-81e6-a729ec30b7f8",
        "colab": {
          "base_uri": "https://localhost:8080/",
          "height": 34
        }
      },
      "source": [
        "import torch\n",
        "import torchvision\n",
        "import torchvision.transforms as transforms\n",
        " \n",
        "device = torch.device('cuda' if torch.cuda.is_available() else 'cpu')\n",
        "print(device)"
      ],
      "execution_count": 0,
      "outputs": [
        {
          "output_type": "stream",
          "text": [
            "cuda\n"
          ],
          "name": "stdout"
        }
      ]
    },
    {
      "cell_type": "code",
      "metadata": {
        "id": "RKU2w27ayl6B",
        "colab_type": "code",
        "colab": {}
      },
      "source": [
        "import matplotlib.pyplot as plt\n",
        "import numpy as np"
      ],
      "execution_count": 0,
      "outputs": []
    },
    {
      "cell_type": "code",
      "metadata": {
        "id": "d3d5M6tcpPo9",
        "colab_type": "code",
        "colab": {}
      },
      "source": [
        "transform=transforms.Compose(\n",
        "    [transforms.ToTensor(),\n",
        "     transforms.Normalize((0.5,),(0.5,))])\n",
        " \n",
        "trainset = torchvision.datasets.MNIST(root='./data',download=True,train=True,transform=transform)\n",
        "trainloader = torch.utils.data.DataLoader(trainset,batch_size=64,shuffle=True)\n",
        " \n",
        "testset = torchvision.datasets.MNIST(root='./data',download=True,train=False,transform=transform)\n",
        "testloader = torch.utils.data.DataLoader(testset,batch_size=64,shuffle=False)"
      ],
      "execution_count": 0,
      "outputs": []
    },
    {
      "cell_type": "code",
      "metadata": {
        "id": "_6azoRW80Iyc",
        "colab_type": "code",
        "outputId": "6512c319-b45a-4bde-c77f-c018091efcfe",
        "colab": {
          "base_uri": "https://localhost:8080/",
          "height": 51
        }
      },
      "source": [
        "dataiter = iter(trainloader)\n",
        "images,labels = dataiter.next()\n",
        " \n",
        "print(images.shape)\n",
        "print(labels.shape)"
      ],
      "execution_count": 0,
      "outputs": [
        {
          "output_type": "stream",
          "text": [
            "torch.Size([64, 1, 28, 28])\n",
            "torch.Size([64])\n"
          ],
          "name": "stdout"
        }
      ]
    },
    {
      "cell_type": "code",
      "metadata": {
        "id": "yveXkMA1aCUf",
        "colab_type": "code",
        "colab": {}
      },
      "source": [
        "def imshow(img):\n",
        "  plt.imshow(img.numpy().squeeze(),cmap=\"gray\")"
      ],
      "execution_count": 0,
      "outputs": []
    },
    {
      "cell_type": "code",
      "metadata": {
        "id": "U0mQwsHidH16",
        "colab_type": "code",
        "outputId": "f39aa490-da92-4cbf-c2a8-a57094e75ed2",
        "colab": {
          "base_uri": "https://localhost:8080/",
          "height": 265
        }
      },
      "source": [
        "imshow(images[0]);"
      ],
      "execution_count": 0,
      "outputs": [
        {
          "output_type": "display_data",
          "data": {
            "image/png": "[encoded data removed]",
            "text/plain": [
              "<Figure size 432x288 with 1 Axes>"
            ]
          },
          "metadata": {
            "tags": [],
            "needs_background": "light"
          }
        }
      ]
    },
    {
      "cell_type": "markdown",
      "metadata": {
        "id": "l-R12GHghsks",
        "colab_type": "text"
      },
      "source": [
        "###CNN Model Architecture\n",
        "\n"
      ]
    },
    {
      "cell_type": "code",
      "metadata": {
        "id": "R8h3iuSWkY2V",
        "colab_type": "code",
        "colab": {}
      },
      "source": [
        "import torch.nn as nn\n",
        "from torch.nn import functional\n",
        "import torch.optim as optim\n",
        "import time\n",
        "from IPython import display"
      ],
      "execution_count": 0,
      "outputs": []
    },
    {
      "cell_type": "code",
      "metadata": {
        "id": "K6e6pLJQoJSd",
        "colab_type": "code",
        "outputId": "1f0df7b2-48b9-4b52-83c6-00b82209c754",
        "colab": {
          "base_uri": "https://localhost:8080/",
          "height": 187
        }
      },
      "source": [
        "class Net(nn.Module):\n",
        "  def __init__(self):\n",
        "    super(Net,self).__init__()\n",
        "    self.C1=nn.Conv2d(1,32,kernel_size=(3,3))\n",
        "    self.C2=nn.Conv2d(32,64,kernel_size=(3,3))\n",
        "    self.S3=nn.MaxPool2d(kernel_size=(2,2),stride=2)\n",
        "    self.D4=nn.Dropout(0.25)\n",
        "    self.F5=nn.Linear(9216,128)\n",
        "    self.D6=nn.Dropout(0.5)\n",
        "    self.F7=nn.Linear(128,10)\n",
        "    self.OL=nn.LogSoftmax(dim=1)\n",
        " \n",
        "  def forward(self,x):\n",
        "    x=torch.relu(self.C1(x))\n",
        "    x=torch.relu(self.C2(x))\n",
        "    x=self.S3(x)\n",
        "    x=self.D4(x)\n",
        "    x=x.view(x.size(0),-1)\n",
        "    x=torch.relu(self.F5(x))\n",
        "    x=self.D6(x)\n",
        "    x=self.F7(x)\n",
        "    x=self.OL(x)\n",
        " \n",
        "    return x\n",
        " \n",
        "    \n",
        "net=Net()\n",
        "print(net)"
      ],
      "execution_count": 0,
      "outputs": [
        {
          "output_type": "stream",
          "text": [
            "Net(\n",
            "  (C1): Conv2d(1, 32, kernel_size=(3, 3), stride=(1, 1))\n",
            "  (C2): Conv2d(32, 64, kernel_size=(3, 3), stride=(1, 1))\n",
            "  (S3): MaxPool2d(kernel_size=(2, 2), stride=2, padding=0, dilation=1, ceil_mode=False)\n",
            "  (D4): Dropout(p=0.25, inplace=False)\n",
            "  (F5): Linear(in_features=9216, out_features=128, bias=True)\n",
            "  (D6): Dropout(p=0.5, inplace=False)\n",
            "  (F7): Linear(in_features=128, out_features=10, bias=True)\n",
            "  (OL): LogSoftmax()\n",
            ")\n"
          ],
          "name": "stdout"
        }
      ]
    },
    {
      "cell_type": "code",
      "metadata": {
        "id": "bYplCVwjiaMZ",
        "colab_type": "code",
        "outputId": "0b024ea1-fa6d-4e8d-e4b9-d4a6083f7016",
        "colab": {
          "base_uri": "https://localhost:8080/",
          "height": 221
        }
      },
      "source": [
        "net = nn.DataParallel(net)\n",
        "\n",
        "net.to(device)"
      ],
      "execution_count": 0,
      "outputs": [
        {
          "output_type": "execute_result",
          "data": {
            "text/plain": [
              "DataParallel(\n",
              "  (module): Net(\n",
              "    (C1): Conv2d(1, 32, kernel_size=(3, 3), stride=(1, 1))\n",
              "    (C2): Conv2d(32, 64, kernel_size=(3, 3), stride=(1, 1))\n",
              "    (S3): MaxPool2d(kernel_size=(2, 2), stride=2, padding=0, dilation=1, ceil_mode=False)\n",
              "    (D4): Dropout(p=0.25, inplace=False)\n",
              "    (F5): Linear(in_features=9216, out_features=128, bias=True)\n",
              "    (D6): Dropout(p=0.5, inplace=False)\n",
              "    (F7): Linear(in_features=128, out_features=10, bias=True)\n",
              "    (OL): LogSoftmax()\n",
              "  )\n",
              ")"
            ]
          },
          "metadata": {
            "tags": []
          },
          "execution_count": 37
        }
      ]
    },
    {
      "cell_type": "code",
      "metadata": {
        "id": "sK9bpuGKek1w",
        "colab_type": "code",
        "colab": {}
      },
      "source": [
        "criterion = nn.NLLLoss()\n",
        "optimizer = optim.Adam(net.parameters())"
      ],
      "execution_count": 0,
      "outputs": []
    },
    {
      "cell_type": "code",
      "metadata": {
        "id": "V0hM_Z_ZefOe",
        "colab_type": "code",
        "outputId": "0da4c07e-69fe-443e-8d55-ec24dbbd11ae",
        "colab": {
          "base_uri": "https://localhost:8080/",
          "height": 306
        }
      },
      "source": [
        "\n",
        "batch_size = 64\n",
        "nepoch = 15;                    # number of epochs through training set\n",
        "disp_freq = 100                 # display frequency\n",
        "\n",
        "errs = []\n",
        "losses = []\n",
        "\n",
        "t_start=time.time()\n",
        "\n",
        "for e in range(nepoch):\n",
        "  \n",
        "    running_loss = 0\n",
        "    for images, labels in trainloader:\n",
        "      ntrain=images.shape[0]\n",
        "      images=images.to(device)\n",
        "      labels=labels.to(device)\n",
        "      for t in range(int(ntrain / batch_size)):\n",
        "\n",
        "        \n",
        "        # Training pass\n",
        "        optimizer.zero_grad()\n",
        "        \n",
        "        #Model Evaluation and Log-loss evaluation\n",
        "        output = net(images)\n",
        "        loss = criterion(output, labels)\n",
        "\n",
        "        \n",
        "        #Backpopagating losses\n",
        "        loss.backward()\n",
        "        \n",
        "        #Updating weights\n",
        "        optimizer.step()\n",
        "\n",
        "        \n",
        "        pred = torch.argmax(torch.exp(output), dim=1)\n",
        "        err = torch.mean((pred != labels).float())\n",
        "        errs.append(err.cpu().detach().numpy())\n",
        "        losses.append(loss.cpu().detach().numpy())\n",
        "\n",
        "        \n",
        "      running_loss += loss.item()\n",
        "    else:\n",
        "        print(\"Epoch {} - Training loss: {}\".format(e, running_loss/len(trainloader)))\n",
        "print(\"\\nTraining Time (in minutes) =\",(time.time()-t_start)/60)\n"
      ],
      "execution_count": 0,
      "outputs": [
        {
          "output_type": "stream",
          "text": [
            "Epoch 0 - Training loss: 0.21795294446143895\n",
            "Epoch 1 - Training loss: 0.08501245943642756\n",
            "Epoch 2 - Training loss: 0.0666886960356824\n",
            "Epoch 3 - Training loss: 0.05455543037686648\n",
            "Epoch 4 - Training loss: 0.044929745382686924\n",
            "Epoch 5 - Training loss: 0.04205742539929302\n",
            "Epoch 6 - Training loss: 0.03710671577221358\n",
            "Epoch 7 - Training loss: 0.03193134814103656\n",
            "Epoch 8 - Training loss: 0.03131200449823189\n",
            "Epoch 9 - Training loss: 0.026507148125977403\n",
            "Epoch 10 - Training loss: 0.025570759998519283\n",
            "Epoch 11 - Training loss: 0.024354679363050948\n",
            "Epoch 12 - Training loss: 0.023468728228879254\n",
            "Epoch 13 - Training loss: 0.020574342145689768\n",
            "Epoch 14 - Training loss: 0.020992698725749815\n",
            "\n",
            "Training Time (in minutes) = 3.030082368850708\n"
          ],
          "name": "stdout"
        }
      ]
    },
    {
      "cell_type": "code",
      "metadata": {
        "id": "QD-yYW_VaIIw",
        "colab_type": "code",
        "outputId": "d9e0f602-f9a0-4187-9d2d-9d12f4aac95b",
        "colab": {
          "base_uri": "https://localhost:8080/",
          "height": 68
        }
      },
      "source": [
        "correct_count, all_count = 0, 0\n",
        "for images,labels in testloader:\n",
        "  images.to(device)\n",
        "  labels.to(device)\n",
        "  for i in range(len(labels)):\n",
        "    \n",
        "    with torch.no_grad():\n",
        "        logps = net(images)\n",
        "\n",
        "    \n",
        "    ps = torch.exp(logps)\n",
        "    probab = list(ps.cpu().numpy()[i])\n",
        "    pred_label = probab.index(max(probab))\n",
        "    true_label = labels.cpu().numpy()[i]\n",
        "    if(true_label == pred_label):\n",
        "      correct_count += 1\n",
        "    all_count += 1\n",
        "\n",
        "print(\"Number Of Images Tested =\", all_count)\n",
        "print(\"\\nModel Accuracy =\", (correct_count/all_count))"
      ],
      "execution_count": 0,
      "outputs": [
        {
          "output_type": "stream",
          "text": [
            "Number Of Images Tested = 10000\n",
            "\n",
            "Model Accuracy = 0.985\n"
          ],
          "name": "stdout"
        }
      ]
    },
    {
      "cell_type": "code",
      "metadata": {
        "id": "j2zzxoPnVVDd",
        "colab_type": "code",
        "outputId": "47f5ac83-5bbf-4c58-eea0-3123801a01a0",
        "colab": {
          "base_uri": "https://localhost:8080/",
          "height": 285
        }
      },
      "source": [
        "plt.plot(losses)"
      ],
      "execution_count": 0,
      "outputs": [
        {
          "output_type": "execute_result",
          "data": {
            "text/plain": [
              "[<matplotlib.lines.Line2D at 0x7fcdf5dff860>]"
            ]
          },
          "metadata": {
            "tags": []
          },
          "execution_count": 41
        },
        {
          "output_type": "display_data",
          "data": {
            "image/png": "[encoded data removed]",
            "text/plain": [
              "<Figure size 432x288 with 1 Axes>"
            ]
          },
          "metadata": {
            "tags": [],
            "needs_background": "light"
          }
        }
      ]
    },
    {
      "cell_type": "code",
      "metadata": {
        "id": "C4c8rqPFVsWo",
        "colab_type": "code",
        "colab": {}
      },
      "source": [
        "def view_classify(img, ps, version=\"MNIST\"):\n",
        "    ''' Function for viewing an image and it's predicted classes.\n",
        "    '''\n",
        "    ps = ps.data.numpy().squeeze()\n",
        "\n",
        "    fig, (ax1, ax2) = plt.subplots(figsize=(6,9), ncols=2)\n",
        "    ax1.imshow(img.resize_(1, 28, 28).numpy().squeeze())\n",
        "    ax1.axis('off')\n",
        "    ax2.barh(np.arange(10), ps)\n",
        "    ax2.set_aspect(0.1)\n",
        "    ax2.set_yticks(np.arange(10))\n",
        "    if version == \"MNIST\":\n",
        "        ax2.set_yticklabels(np.arange(10))\n",
        "    \n",
        "    ax2.set_title('Class Probability')\n",
        "    ax2.set_xlim(0, 1.1)\n"
      ],
      "execution_count": 0,
      "outputs": []
    },
    {
      "cell_type": "code",
      "metadata": {
        "id": "zUyA73sKS_dh",
        "colab_type": "code",
        "outputId": "9522060f-b96e-41df-c863-c374d0d9b90a",
        "colab": {
          "base_uri": "https://localhost:8080/",
          "height": 213
        }
      },
      "source": [
        "dataiter = iter(testloader)\n",
        "images, labels = dataiter.next()\n",
        "img = images[59]\n",
        "\n",
        "\n",
        "img = img.resize_(1,1,28,28)\n",
        "\n",
        "\n",
        "\n",
        "with torch.no_grad():\n",
        "    logps = net(img)\n",
        "    \n",
        "ps = torch.exp(logps)\n",
        "\n",
        "# Plotting the image and probabilities\n",
        "view_classify(img.cpu(), ps.cpu())"
      ],
      "execution_count": 0,
      "outputs": [
        {
          "output_type": "display_data",
          "data": {
            "image/png": "[encoded data removed]",
            "text/plain": [
              "<Figure size 432x648 with 2 Axes>"
            ]
          },
          "metadata": {
            "tags": [],
            "needs_background": "light"
          }
        }
      ]
    }
  ]
}